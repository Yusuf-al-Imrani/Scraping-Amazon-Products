{
 "cells": [
  {
   "cell_type": "code",
   "execution_count": 1,
   "metadata": {},
   "outputs": [],
   "source": [
    "import requests\n",
    "from bs4 import BeautifulSoup \n",
    "import lxml\n",
    "import csv\n",
    "from datetime import datetime\n"
   ]
  },
  {
   "cell_type": "code",
   "execution_count": 2,
   "metadata": {
    "scrolled": true
   },
   "outputs": [
    {
     "name": "stdout",
     "output_type": "stream",
     "text": [
      "Enter the URL: https://www.amazon.ae/s?k=lenovo+laptop&i=computers&rh=n%3A12050245031%2Cp_n_feature_thirty_browse-bin%3A27387944031%2Cp_n_feature_fifteen_browse-bin%3A12065142031%7C12065143031%2Cp_89%3ALenovo%2Cp_n_feature_thirty-two_browse-bin%3A27399040031%2Cp_36%3A-500000%2Cp_n_feature_nineteen_browse-bin%3A12064945031&dc&crid=1WUSXO4SXR4RP&qid=1679089723&rnid=12064942031&sprefix=lenovo+laptop%2Caps%2C164&ref=sr_pg_1\n",
      "You entered:  https://www.amazon.ae/s?k=lenovo+laptop&i=computers&rh=n%3A12050245031%2Cp_n_feature_thirty_browse-bin%3A27387944031%2Cp_n_feature_fifteen_browse-bin%3A12065142031%7C12065143031%2Cp_89%3ALenovo%2Cp_n_feature_thirty-two_browse-bin%3A27399040031%2Cp_36%3A-500000%2Cp_n_feature_nineteen_browse-bin%3A12064945031&dc&crid=1WUSXO4SXR4RP&qid=1679089723&rnid=12064942031&sprefix=lenovo+laptop%2Caps%2C164&ref=sr_pg_1\n"
     ]
    }
   ],
   "source": [
    "# Taking URL for resulted search or filtering\n",
    "# Accept input from user\n",
    "URL_required = input(\"Enter the URL: \")\n",
    "print(\"You entered: \", URL_required)\n",
    "\n"
   ]
  },
  {
   "cell_type": "markdown",
   "metadata": {},
   "source": [
    " "
   ]
  },
  {
   "cell_type": "code",
   "execution_count": 3,
   "metadata": {},
   "outputs": [],
   "source": [
    "website_URL = \"https://www.amazon.ae\""
   ]
  },
  {
   "cell_type": "markdown",
   "metadata": {},
   "source": [
    " "
   ]
  },
  {
   "cell_type": "code",
   "execution_count": 4,
   "metadata": {},
   "outputs": [],
   "source": [
    "# Storing file name and file path in global variables to be used in multiple cells\n",
    "next_page = \"\"\n",
    "file_name = f\"Products_Data_Scraped.csv\"\n",
    "file_path = \"C:/Users/yusuf/Data Science/Projects/Web Scraping/Scraping-Amazon-Products-Details\"\n",
    "path = file_path+\"/\"+file_name"
   ]
  },
  {
   "cell_type": "markdown",
   "metadata": {},
   "source": [
    " "
   ]
  },
  {
   "cell_type": "code",
   "execution_count": 5,
   "metadata": {},
   "outputs": [
    {
     "data": {
      "text/plain": [
       "<Response [200]>"
      ]
     },
     "execution_count": 5,
     "metadata": {},
     "output_type": "execute_result"
    }
   ],
   "source": [
    "# Requesting the webpage and adding the date to it\n",
    "page = requests.get(URL_required)\n",
    "# Checking the response of the getting the page, if respose is 200; this means we got it fine\n",
    "page"
   ]
  },
  {
   "cell_type": "markdown",
   "metadata": {},
   "source": [
    " "
   ]
  },
  {
   "cell_type": "code",
   "execution_count": 6,
   "metadata": {},
   "outputs": [
    {
     "name": "stdout",
     "output_type": "stream",
     "text": [
      "Request successful\n"
     ]
    }
   ],
   "source": [
    "# Chech next page availability\n",
    "if page.ok:\n",
    "    print('Request successful')\n",
    "else:\n",
    "    print(\"There is no left pages to find more products\")\n"
   ]
  },
  {
   "cell_type": "markdown",
   "metadata": {},
   "source": [
    " "
   ]
  },
  {
   "cell_type": "code",
   "execution_count": 7,
   "metadata": {},
   "outputs": [],
   "source": [
    "def scrape_product_details(products, products_list):\n",
    "    \"\"\" To collect product details \"\"\"\n",
    "    \n",
    "    i = 0 # Number of products tracer\n",
    "    \n",
    "    for product in products:  # Start scraping each product details\n",
    "        product_description = product.find(\"div\",{\"class\":\"a-section a-spacing-none a-spacing-top-small s-title-instructions-style\"}\n",
    "                                              ).find_next(\"h2\",{\"class\":\"a-size-mini a-spacing-none a-color-base s-line-clamp-4\"}\n",
    "                                                         ).find_next(\"a\").find_next(\"span\").text.strip()\n",
    "\n",
    "        product_price_initial = product.find(\"div\",{\"class\":\"a-row a-size-base a-color-base\"}\n",
    "                                  ).find_next(\"a\", {\"class\":\"a-size-base a-link-normal s-underline-text s-underline-link-text s-link-style a-text-normal\"}\n",
    "                                             ).find_next(\"span\", {\"class\":\"a-price\"}\n",
    "                                                        ).find_next(\"span\", {\"class\":\"a-price-whole\"}).text\n",
    "        product_price = product_price_initial[:-1]\n",
    "\n",
    "        product_rate_initial = product.find(\"div\", {\"class\":\"a-section a-spacing-none a-spacing-top-micro\"}\n",
    "                                             ).find_next(\"div\", {\"class\":\"a-row a-size-small\"}\n",
    "                                                        ).find_next(\"span\"\n",
    "                                                                   ).find_next(\"span\", {\"class\":\"a-declarative\"}\n",
    "                                                                              ).find_next(\"a\"\n",
    "                                                                                         ).find_next(\"i\").text\n",
    "        product_rate = product_rate_initial[:3]\n",
    "        \n",
    "        \n",
    "        product_rating_counts_initial = product.find(\"div\", {\"class\":\"a-section a-spacing-none a-spacing-top-micro\"}\n",
    "                                             ).find_next(\"div\", {\"class\":\"a-row a-size-small\"}\n",
    "                                                        ).find_next(\"span\", {\"class\":\"a-declarative\"}\n",
    "                                                                              ).find_next(\"a\"\n",
    "                                                                                         ).find_next(\"span\"\n",
    "                                                                                                    ).find_next(\"span\").text\n",
    "\n",
    "        \n",
    "        product_rating_counts = product_rating_counts_initial[1]\n",
    "        \n",
    "        product_link =  website_URL +product.find(\"div\",{\"class\":\"a-section a-spacing-base\"}\n",
    "                                        ).find_next(\"div\"\n",
    "                                                   ).find_next(\"div\"\n",
    "                                                              ).find_next(\"div\"\n",
    "                                                                         ).find_next(\"h2\"\n",
    "                                                                                    ).find_next(\"a\"\n",
    "                                                                                               )['href']\n",
    "        # a-section a-spacing-small puis-padding-left-small puis-padding-right-small\n",
    "        # a-section a-spacing-none a-spacing-top-small s-title-instructions-style\n",
    "        # a-section a-spacing-base\n",
    "        \n",
    "        # Storing the values in dictionary\n",
    "        product = {'Product_Description':product_description, 'Product_Price':product_price,\n",
    "                 'Product_Rate':product_rate,\"Product_Rating_Counts\":product_rating_counts,\n",
    "                   'Product_Link':product_link}\n",
    "        \n",
    "                # Appending the product data to product_details list\n",
    "        products_list.append(product)\n",
    "        \n",
    "        \n",
    "        i +=1 \n",
    "        if i <= 1:  # To distinguish first cycle\n",
    "            all_products_datails = products_list # First cycle for the loop\n",
    "        else: \n",
    "            all_products_datails = all_products_datails + products_list # Later cycles\n",
    "            \n",
    "            \n",
    "\n",
    "    return(all_products_datails)\n"
   ]
  },
  {
   "cell_type": "markdown",
   "metadata": {},
   "source": [
    " "
   ]
  },
  {
   "cell_type": "code",
   "execution_count": 8,
   "metadata": {},
   "outputs": [],
   "source": [
    "\n",
    "def store_in_csv(final_products_details, file_name, path):\n",
    "    \"\"\"To store the scraped products data in csv file\"\"\"\n",
    "\n",
    "    # Creating Keys to use in product dictionary\n",
    "    keys = ['Product_Description', 'Product_Price', 'Product_Rate', 'Product_Rating_Counts', 'Product_Link']\n",
    "\n",
    "    # Storing the championships details in csv file\n",
    "    with open(path, 'w', newline=\"\") as product_data:\n",
    "        dict_writer = csv.DictWriter(product_data, fieldnames=keys) \n",
    "        dict_writer.writeheader()\n",
    "\n",
    "        # Looping through championships to store its data\n",
    "        for product in final_products_details: \n",
    "            dict_writer.writerow(product)\n",
    "\n",
    "        # Checking the file creation is done\n",
    "        print(f\"Products data saved to file {file_name}\")"
   ]
  },
  {
   "cell_type": "markdown",
   "metadata": {},
   "source": [
    " "
   ]
  },
  {
   "cell_type": "code",
   "execution_count": 9,
   "metadata": {},
   "outputs": [],
   "source": [
    "\n",
    "def scraping(page):\n",
    "    \"\"\"The main function to do the steps of scraping\"\"\"\n",
    "    \n",
    "    products_list = []\n",
    "    \n",
    "    src = page.content\n",
    "    soup =  BeautifulSoup(src, \"lxml\")\n",
    "\n",
    "    # Each product in the entered data\n",
    "    products = soup.find(\"div\", {\"class\":\"s-main-slot s-result-list s-search-results sg-row\"}\n",
    "                        ).find_all(\"div\", {\"class\":\"sg-col-4-of-24 sg-col-4-of-12 s-result-item s-asin sg-col-4-of-16 sg-col s-widget-spacing-small sg-col-4-of-20\"})    \n",
    "    \n",
    "    # Gets all products     \n",
    "    final_products_details = scrape_product_details(products, products_list)\n",
    "    \n",
    "    \n",
    "    \n",
    "    # Calling the function that stores the data scraped in csv file\n",
    "    store_in_csv(final_products_details, file_name, path)"
   ]
  },
  {
   "cell_type": "markdown",
   "metadata": {},
   "source": [
    "#### Doing all the work from the main function"
   ]
  },
  {
   "cell_type": "code",
   "execution_count": 10,
   "metadata": {},
   "outputs": [
    {
     "name": "stdout",
     "output_type": "stream",
     "text": [
      "Products data saved to file Products_Data_Scraped.csv\n"
     ]
    }
   ],
   "source": [
    "scraping(page)"
   ]
  },
  {
   "cell_type": "markdown",
   "metadata": {},
   "source": [
    " "
   ]
  },
  {
   "cell_type": "markdown",
   "metadata": {},
   "source": [
    " "
   ]
  },
  {
   "cell_type": "markdown",
   "metadata": {},
   "source": [
    " "
   ]
  },
  {
   "cell_type": "markdown",
   "metadata": {},
   "source": [
    " "
   ]
  },
  {
   "cell_type": "markdown",
   "metadata": {},
   "source": [
    " "
   ]
  },
  {
   "cell_type": "markdown",
   "metadata": {},
   "source": [
    "## Working on the resulted data\n",
    "\n",
    "### Openning the csv file and show the data"
   ]
  },
  {
   "cell_type": "code",
   "execution_count": 11,
   "metadata": {},
   "outputs": [],
   "source": [
    "#Importing Libraries\n",
    "\n",
    "import numpy as np # linear algebra\n",
    "import pandas as pd # data processing, CSV file I/O (e.g. pd.read_csv)\n",
    "import matplotlib.pyplot as plt\n",
    "import seaborn as sns\n",
    "from six.moves import urllib\n",
    "import os "
   ]
  },
  {
   "cell_type": "markdown",
   "metadata": {},
   "source": [
    " "
   ]
  },
  {
   "cell_type": "code",
   "execution_count": 12,
   "metadata": {},
   "outputs": [],
   "source": [
    "#function to read the data\n",
    "\n",
    "def load_data(file_path, file_name):\n",
    "    \n",
    "    csv_path = os.path.join(file_path, file_name)\n",
    "    \n",
    "    return(pd.read_csv(csv_path))\n",
    "\n"
   ]
  },
  {
   "cell_type": "markdown",
   "metadata": {},
   "source": [
    " "
   ]
  },
  {
   "cell_type": "markdown",
   "metadata": {},
   "source": [
    " "
   ]
  },
  {
   "cell_type": "markdown",
   "metadata": {},
   "source": [
    "### Loading the data"
   ]
  },
  {
   "cell_type": "code",
   "execution_count": 13,
   "metadata": {},
   "outputs": [],
   "source": [
    "# Loading the data using the load_data function\n",
    "data = load_data(file_path, file_name)"
   ]
  },
  {
   "cell_type": "markdown",
   "metadata": {},
   "source": [
    " "
   ]
  },
  {
   "cell_type": "code",
   "execution_count": 14,
   "metadata": {},
   "outputs": [
    {
     "data": {
      "text/html": [
       "<div>\n",
       "<style scoped>\n",
       "    .dataframe tbody tr th:only-of-type {\n",
       "        vertical-align: middle;\n",
       "    }\n",
       "\n",
       "    .dataframe tbody tr th {\n",
       "        vertical-align: top;\n",
       "    }\n",
       "\n",
       "    .dataframe thead th {\n",
       "        text-align: right;\n",
       "    }\n",
       "</style>\n",
       "<table border=\"1\" class=\"dataframe\">\n",
       "  <thead>\n",
       "    <tr style=\"text-align: right;\">\n",
       "      <th></th>\n",
       "      <th>Product_Description</th>\n",
       "      <th>Product_Price</th>\n",
       "      <th>Product_Rate</th>\n",
       "      <th>Product_Rating_Counts</th>\n",
       "      <th>Product_Link</th>\n",
       "    </tr>\n",
       "  </thead>\n",
       "  <tbody>\n",
       "    <tr>\n",
       "      <th>0</th>\n",
       "      <td>2022 Latest Lenovo ThinkPad E15 Gen 4 Business...</td>\n",
       "      <td>2,711</td>\n",
       "      <td>3.3</td>\n",
       "      <td>5</td>\n",
       "      <td>https://www.amazon.ae/Lenovo-ThinkPad-Business...</td>\n",
       "    </tr>\n",
       "    <tr>\n",
       "      <th>1</th>\n",
       "      <td>2022 Latest Lenovo ThinkPad E15 Gen 4 Business...</td>\n",
       "      <td>3,143</td>\n",
       "      <td>2.6</td>\n",
       "      <td>7</td>\n",
       "      <td>https://www.amazon.ae/Lenovo-ThinkPad-Business...</td>\n",
       "    </tr>\n",
       "    <tr>\n",
       "      <th>2</th>\n",
       "      <td>2022 Latest Lenovo ThinkPad E15 Gen 4 Business...</td>\n",
       "      <td>2,711</td>\n",
       "      <td>3.3</td>\n",
       "      <td>5</td>\n",
       "      <td>https://www.amazon.ae/Lenovo-ThinkPad-Business...</td>\n",
       "    </tr>\n",
       "    <tr>\n",
       "      <th>3</th>\n",
       "      <td>2022 Latest Lenovo ThinkPad E15 Gen 4 Business...</td>\n",
       "      <td>3,143</td>\n",
       "      <td>2.6</td>\n",
       "      <td>7</td>\n",
       "      <td>https://www.amazon.ae/Lenovo-ThinkPad-Business...</td>\n",
       "    </tr>\n",
       "    <tr>\n",
       "      <th>4</th>\n",
       "      <td>2022 Latest Lenovo ThinkPad E15 Gen 4 Business...</td>\n",
       "      <td>2,711</td>\n",
       "      <td>3.3</td>\n",
       "      <td>5</td>\n",
       "      <td>https://www.amazon.ae/Lenovo-ThinkPad-Business...</td>\n",
       "    </tr>\n",
       "    <tr>\n",
       "      <th>...</th>\n",
       "      <td>...</td>\n",
       "      <td>...</td>\n",
       "      <td>...</td>\n",
       "      <td>...</td>\n",
       "      <td>...</td>\n",
       "    </tr>\n",
       "    <tr>\n",
       "      <th>296</th>\n",
       "      <td>2020 Lenovo ThinkPad E15 Business Laptop, 15.6...</td>\n",
       "      <td>3,290</td>\n",
       "      <td>4.1</td>\n",
       "      <td>4</td>\n",
       "      <td>https://www.amazon.ae/Lenovo-ThinkPad-i5-10210...</td>\n",
       "    </tr>\n",
       "    <tr>\n",
       "      <th>297</th>\n",
       "      <td>Lenovo IdeaPad 3 15.6\" HD Touchscreen Laptop, ...</td>\n",
       "      <td>4,216</td>\n",
       "      <td>4.1</td>\n",
       "      <td>4</td>\n",
       "      <td>https://www.amazon.ae/Lenovo-IdeaPad-Touchscre...</td>\n",
       "    </tr>\n",
       "    <tr>\n",
       "      <th>298</th>\n",
       "      <td>2022 Latest Lenovo ThinkPad E15 Gen 2 Business...</td>\n",
       "      <td>3,399</td>\n",
       "      <td>5.0</td>\n",
       "      <td>1</td>\n",
       "      <td>https://www.amazon.ae/Lenovo-ThinkPad-Business...</td>\n",
       "    </tr>\n",
       "    <tr>\n",
       "      <th>299</th>\n",
       "      <td>2020 Latest Lenovo ThinkPad E15 Laptop 15.6\" F...</td>\n",
       "      <td>3,408</td>\n",
       "      <td>5.0</td>\n",
       "      <td>1</td>\n",
       "      <td>https://www.amazon.ae/Lenovo-ThinkPad-Display-...</td>\n",
       "    </tr>\n",
       "    <tr>\n",
       "      <th>300</th>\n",
       "      <td>2021 Lenovo ThinkPad E15 Gen 2 15.6\" FHD Busin...</td>\n",
       "      <td>2,999</td>\n",
       "      <td>1.0</td>\n",
       "      <td>1</td>\n",
       "      <td>https://www.amazon.ae/Lenovo-ThinkPad-i5-1135G...</td>\n",
       "    </tr>\n",
       "  </tbody>\n",
       "</table>\n",
       "<p>301 rows × 5 columns</p>\n",
       "</div>"
      ],
      "text/plain": [
       "                                   Product_Description Product_Price  \\\n",
       "0    2022 Latest Lenovo ThinkPad E15 Gen 4 Business...         2,711   \n",
       "1    2022 Latest Lenovo ThinkPad E15 Gen 4 Business...         3,143   \n",
       "2    2022 Latest Lenovo ThinkPad E15 Gen 4 Business...         2,711   \n",
       "3    2022 Latest Lenovo ThinkPad E15 Gen 4 Business...         3,143   \n",
       "4    2022 Latest Lenovo ThinkPad E15 Gen 4 Business...         2,711   \n",
       "..                                                 ...           ...   \n",
       "296  2020 Lenovo ThinkPad E15 Business Laptop, 15.6...         3,290   \n",
       "297  Lenovo IdeaPad 3 15.6\" HD Touchscreen Laptop, ...         4,216   \n",
       "298  2022 Latest Lenovo ThinkPad E15 Gen 2 Business...         3,399   \n",
       "299  2020 Latest Lenovo ThinkPad E15 Laptop 15.6\" F...         3,408   \n",
       "300  2021 Lenovo ThinkPad E15 Gen 2 15.6\" FHD Busin...         2,999   \n",
       "\n",
       "     Product_Rate  Product_Rating_Counts  \\\n",
       "0             3.3                      5   \n",
       "1             2.6                      7   \n",
       "2             3.3                      5   \n",
       "3             2.6                      7   \n",
       "4             3.3                      5   \n",
       "..            ...                    ...   \n",
       "296           4.1                      4   \n",
       "297           4.1                      4   \n",
       "298           5.0                      1   \n",
       "299           5.0                      1   \n",
       "300           1.0                      1   \n",
       "\n",
       "                                          Product_Link  \n",
       "0    https://www.amazon.ae/Lenovo-ThinkPad-Business...  \n",
       "1    https://www.amazon.ae/Lenovo-ThinkPad-Business...  \n",
       "2    https://www.amazon.ae/Lenovo-ThinkPad-Business...  \n",
       "3    https://www.amazon.ae/Lenovo-ThinkPad-Business...  \n",
       "4    https://www.amazon.ae/Lenovo-ThinkPad-Business...  \n",
       "..                                                 ...  \n",
       "296  https://www.amazon.ae/Lenovo-ThinkPad-i5-10210...  \n",
       "297  https://www.amazon.ae/Lenovo-IdeaPad-Touchscre...  \n",
       "298  https://www.amazon.ae/Lenovo-ThinkPad-Business...  \n",
       "299  https://www.amazon.ae/Lenovo-ThinkPad-Display-...  \n",
       "300  https://www.amazon.ae/Lenovo-ThinkPad-i5-1135G...  \n",
       "\n",
       "[301 rows x 5 columns]"
      ]
     },
     "execution_count": 14,
     "metadata": {},
     "output_type": "execute_result"
    }
   ],
   "source": [
    "data"
   ]
  },
  {
   "cell_type": "markdown",
   "metadata": {},
   "source": [
    " "
   ]
  },
  {
   "cell_type": "markdown",
   "metadata": {},
   "source": [
    " "
   ]
  },
  {
   "cell_type": "markdown",
   "metadata": {},
   "source": [
    " "
   ]
  },
  {
   "cell_type": "markdown",
   "metadata": {},
   "source": [
    " "
   ]
  },
  {
   "cell_type": "markdown",
   "metadata": {},
   "source": [
    "## To be enhanced and built in rich details and more columns"
   ]
  }
 ],
 "metadata": {
  "kernelspec": {
   "display_name": "Python 3",
   "language": "python",
   "name": "python3"
  },
  "language_info": {
   "codemirror_mode": {
    "name": "ipython",
    "version": 3
   },
   "file_extension": ".py",
   "mimetype": "text/x-python",
   "name": "python",
   "nbconvert_exporter": "python",
   "pygments_lexer": "ipython3",
   "version": "3.7.6"
  }
 },
 "nbformat": 4,
 "nbformat_minor": 4
}
